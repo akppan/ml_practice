{
  "nbformat": 4,
  "nbformat_minor": 0,
  "metadata": {
    "colab": {
      "name": "analysis.ipynb",
      "provenance": [],
      "include_colab_link": true
    },
    "kernelspec": {
      "name": "python3",
      "display_name": "Python 3"
    }
  },
  "cells": [
    {
      "cell_type": "markdown",
      "metadata": {
        "id": "view-in-github",
        "colab_type": "text"
      },
      "source": [
        "<a href=\"https://colab.research.google.com/github/akppan/ml_practice/blob/master/analysis.ipynb\" target=\"_parent\"><img src=\"https://colab.research.google.com/assets/colab-badge.svg\" alt=\"Open In Colab\"/></a>"
      ]
    },
    {
      "cell_type": "code",
      "metadata": {
        "id": "JkaKaQBgYW8A",
        "colab_type": "code",
        "colab": {}
      },
      "source": [
        "import pandas as pd\n",
        "import numpy as np"
      ],
      "execution_count": 0,
      "outputs": []
    },
    {
      "cell_type": "code",
      "metadata": {
        "id": "aQ5ZqgvAYX-D",
        "colab_type": "code",
        "outputId": "162e3db0-0397-414b-b122-6e21cd258e16",
        "colab": {
          "base_uri": "https://localhost:8080/",
          "height": 196
        }
      },
      "source": [
        "df = pd.read_csv(\"/content/SMSSpamCollection.csv\")\n",
        "df.head()"
      ],
      "execution_count": 0,
      "outputs": [
        {
          "output_type": "execute_result",
          "data": {
            "text/html": [
              "<div>\n",
              "<style scoped>\n",
              "    .dataframe tbody tr th:only-of-type {\n",
              "        vertical-align: middle;\n",
              "    }\n",
              "\n",
              "    .dataframe tbody tr th {\n",
              "        vertical-align: top;\n",
              "    }\n",
              "\n",
              "    .dataframe thead th {\n",
              "        text-align: right;\n",
              "    }\n",
              "</style>\n",
              "<table border=\"1\" class=\"dataframe\">\n",
              "  <thead>\n",
              "    <tr style=\"text-align: right;\">\n",
              "      <th></th>\n",
              "      <th>Type</th>\n",
              "      <th>Message</th>\n",
              "    </tr>\n",
              "  </thead>\n",
              "  <tbody>\n",
              "    <tr>\n",
              "      <th>0</th>\n",
              "      <td>ham</td>\n",
              "      <td>Go until jurong point, crazy.. Available only ...</td>\n",
              "    </tr>\n",
              "    <tr>\n",
              "      <th>1</th>\n",
              "      <td>ham</td>\n",
              "      <td>Ok lar... Joking wif u oni...</td>\n",
              "    </tr>\n",
              "    <tr>\n",
              "      <th>2</th>\n",
              "      <td>spam</td>\n",
              "      <td>Free entry in 2 a wkly comp to win FA Cup fina...</td>\n",
              "    </tr>\n",
              "    <tr>\n",
              "      <th>3</th>\n",
              "      <td>ham</td>\n",
              "      <td>U dun say so early hor... U c already then say...</td>\n",
              "    </tr>\n",
              "    <tr>\n",
              "      <th>4</th>\n",
              "      <td>ham</td>\n",
              "      <td>Nah I don't think he goes to usf, he lives aro...</td>\n",
              "    </tr>\n",
              "  </tbody>\n",
              "</table>\n",
              "</div>"
            ],
            "text/plain": [
              "   Type                                            Message\n",
              "0   ham  Go until jurong point, crazy.. Available only ...\n",
              "1   ham                      Ok lar... Joking wif u oni...\n",
              "2  spam  Free entry in 2 a wkly comp to win FA Cup fina...\n",
              "3   ham  U dun say so early hor... U c already then say...\n",
              "4   ham  Nah I don't think he goes to usf, he lives aro..."
            ]
          },
          "metadata": {
            "tags": []
          },
          "execution_count": 3
        }
      ]
    },
    {
      "cell_type": "code",
      "metadata": {
        "id": "Obqe8MLmYlfn",
        "colab_type": "code",
        "colab": {}
      },
      "source": [
        "length_of_text = []\n",
        "for i in range(len(df)):\n",
        "    length_of_text.append(len(df.loc[i]['Message']))"
      ],
      "execution_count": 0,
      "outputs": []
    },
    {
      "cell_type": "code",
      "metadata": {
        "id": "-a9Xpb94YqOz",
        "colab_type": "code",
        "colab": {}
      },
      "source": [
        "df = df.assign(Length_Of_Text = length_of_text)"
      ],
      "execution_count": 0,
      "outputs": []
    },
    {
      "cell_type": "code",
      "metadata": {
        "id": "YyYc2S0aYsXD",
        "colab_type": "code",
        "colab": {}
      },
      "source": [
        "def mean(numbers):\n",
        "    return sum(numbers)/float(len(numbers))"
      ],
      "execution_count": 0,
      "outputs": []
    },
    {
      "cell_type": "code",
      "metadata": {
        "id": "8f0Qkiz_Yuyf",
        "colab_type": "code",
        "colab": {}
      },
      "source": [
        "from math import sqrt\n",
        "\n",
        "# Calculate the standard deviation of a list of numbers\n",
        "def stdev(numbers):\n",
        "    avg = mean(numbers)\n",
        "    variance = sum([(x-avg)**2 for x in numbers]) / float(len(numbers)-1)\n",
        "    return sqrt(variance)"
      ],
      "execution_count": 0,
      "outputs": []
    },
    {
      "cell_type": "code",
      "metadata": {
        "id": "1yl26C3kYxdk",
        "colab_type": "code",
        "outputId": "45f6a84b-d14a-4b28-b261-cc0163dd744f",
        "colab": {
          "base_uri": "https://localhost:8080/",
          "height": 265
        }
      },
      "source": [
        "# pdf and cdf for a normal distribution\n",
        "from scipy.stats import norm\n",
        "from matplotlib import pyplot\n",
        "# define distribution parameters\n",
        "mu = mean(df[\"Length_Of_Text\"])\n",
        "sigma = stdev(df[\"Length_Of_Text\"])\n",
        "# create distribution\n",
        "dist = norm(mu, sigma)\n",
        "# plot pdf\n",
        "values = [value for value in range(min(df[\"Length_Of_Text\"]), 200)]\n",
        "probabilities = [dist.pdf(value) for value in values]\n",
        "pyplot.plot(values, probabilities)\n",
        "pyplot.show()\n",
        "# plot cdf\n",
        "#cprobs = [dist.cdf(value) for value in values]\n",
        "#pyplot.plot(values, cprobs)\n",
        "#pyplot.show()\n"
      ],
      "execution_count": 0,
      "outputs": [
        {
          "output_type": "display_data",
          "data": {
            "image/png": "[encoded data removed]",
            "text/plain": [
              "<Figure size 432x288 with 1 Axes>"
            ]
          },
          "metadata": {
            "tags": []
          }
        }
      ]
    },
    {
      "cell_type": "code",
      "metadata": {
        "id": "mpLSzlhBY0D5",
        "colab_type": "code",
        "colab": {}
      },
      "source": [
        "word_count = []\n",
        "for i in range(len(df)):\n",
        "    word_count.append(len((df.loc[i]['Message']).split()))\n",
        "df = df.assign(word_count = word_count)"
      ],
      "execution_count": 0,
      "outputs": []
    },
    {
      "cell_type": "code",
      "metadata": {
        "id": "JcZvovMMY2Lg",
        "colab_type": "code",
        "outputId": "ac259b43-97ae-4ad5-dc49-8063295b1a4c",
        "colab": {
          "base_uri": "https://localhost:8080/",
          "height": 265
        }
      },
      "source": [
        "from scipy.stats import norm\n",
        "from matplotlib import pyplot\n",
        "# define distribution parameters\n",
        "mu = mean(df[\"word_count\"])\n",
        "sigma = stdev(df[\"word_count\"])\n",
        "# create distribution\n",
        "dist = norm(mu, sigma)\n",
        "# plot pdf\n",
        "values = [value for value in range(min(df[\"word_count\"]), max(df[\"word_count\"]))]\n",
        "probabilities = [dist.pdf(value) for value in values]\n",
        "pyplot.plot(values, probabilities)\n",
        "pyplot.show()"
      ],
      "execution_count": 0,
      "outputs": [
        {
          "output_type": "display_data",
          "data": {
            "image/png": "[encoded data removed]",
            "text/plain": [
              "<Figure size 432x288 with 1 Axes>"
            ]
          },
          "metadata": {
            "tags": []
          }
        }
      ]
    },
    {
      "cell_type": "code",
      "metadata": {
        "id": "5MT_JP5nY4Ok",
        "colab_type": "code",
        "colab": {}
      },
      "source": [
        "#--------- EMAILS COUNT -------#\n",
        "import re\n",
        "#reg = r'[\\w\\.-]+@[\\w\\.-]+'\n",
        "reg = r'[A-Z0-9._%+-]+@[A-Z0-9.-]+\\.[A-Z]{2,}'\n",
        "email_count = []\n",
        "for i in range(len(df)):\n",
        "    text = df.loc[i]['Message']\n",
        "    matches = re.findall(reg, text)\n",
        "    #print(matches)\n",
        "    email_count.append(len(matches))\n",
        "# print(email_count)\n",
        "    \n",
        "df = df.assign(email_count = email_count)"
      ],
      "execution_count": 0,
      "outputs": []
    },
    {
      "cell_type": "code",
      "metadata": {
        "id": "D4_0Cu_oY6uo",
        "colab_type": "code",
        "outputId": "79133975-10fd-414f-d207-e728a1749db3",
        "colab": {
          "base_uri": "https://localhost:8080/",
          "height": 265
        }
      },
      "source": [
        "from scipy.stats import norm\n",
        "from matplotlib import pyplot\n",
        "# define distribution parameters\n",
        "mu = mean(df[\"email_count\"])\n",
        "sigma = stdev(df[\"email_count\"])\n",
        "# create distribution\n",
        "dist = norm(mu, sigma)\n",
        "# plot pdf\n",
        "values = [value for value in range(min(df[\"email_count\"]), max(df[\"email_count\"]))]\n",
        "probabilities = [dist.pdf(value) for value in values]\n",
        "pyplot.plot(values, probabilities)\n",
        "pyplot.show()"
      ],
      "execution_count": 0,
      "outputs": [
        {
          "output_type": "display_data",
          "data": {
            "image/png": "[encoded data removed]",
            "text/plain": [
              "<Figure size 432x288 with 1 Axes>"
            ]
          },
          "metadata": {
            "tags": []
          }
        }
      ]
    },
    {
      "cell_type": "code",
      "metadata": {
        "id": "fCCHfsZgZBLc",
        "colab_type": "code",
        "colab": {}
      },
      "source": [
        "numbers = ['0','1','2','3','4','5','6','7','8','9']\n",
        "number_count = []\n",
        "for i in range(len(df)):\n",
        "    count=0\n",
        "    for j in df.loc[i]['Message']:\n",
        "        if(j in numbers):\n",
        "            count += 1\n",
        "    number_count.append(count)\n",
        "df = df.assign(number_count = number_count)"
      ],
      "execution_count": 0,
      "outputs": []
    },
    {
      "cell_type": "code",
      "metadata": {
        "id": "R_hzEWWcZGp5",
        "colab_type": "code",
        "outputId": "dc8ceb4c-6a49-441b-e622-3c41f5a979b3",
        "colab": {
          "base_uri": "https://localhost:8080/",
          "height": 265
        }
      },
      "source": [
        "from scipy.stats import norm\n",
        "from matplotlib import pyplot\n",
        "# define distribution parameters\n",
        "mu = mean(df[\"number_count\"])\n",
        "sigma = stdev(df[\"number_count\"])\n",
        "# create distribution\n",
        "dist = norm(mu, sigma)\n",
        "# plot pdf\n",
        "values = [value for value in range(min(df[\"number_count\"]), max(df[\"number_count\"]))]\n",
        "probabilities = [dist.pdf(value) for value in values]\n",
        "pyplot.plot(values, probabilities)\n",
        "pyplot.show()"
      ],
      "execution_count": 0,
      "outputs": [
        {
          "output_type": "display_data",
          "data": {
            "image/png": "[encoded data removed]",
            "text/plain": [
              "<Figure size 432x288 with 1 Axes>"
            ]
          },
          "metadata": {
            "tags": []
          }
        }
      ]
    },
    {
      "cell_type": "code",
      "metadata": {
        "id": "3VMp2_D8ZIkp",
        "colab_type": "code",
        "colab": {}
      },
      "source": [
        "letters = ['a','b','c','d','e','f','g','h','i','j','k','l','m','n','o','p','q','r','s','t','u','v','w','x','y','z','A','B','C','D','E','F','G','H','I','J','K','L','M','N','O','P','Q','R','S','T','U','V','W','X','Y','Z','.',' ']\n",
        "symbol_count = []\n",
        "for i in range(len(df)):\n",
        "    count=0\n",
        "    for j in df.loc[i]['Message']:\n",
        "        if(j not in numbers and j not in letters ):\n",
        "            count += 1\n",
        "    symbol_count.append(count)\n",
        "df = df.assign(symbol_count = symbol_count)"
      ],
      "execution_count": 0,
      "outputs": []
    },
    {
      "cell_type": "code",
      "metadata": {
        "id": "h6HBcQ3QZNMD",
        "colab_type": "code",
        "outputId": "0f8bf92c-cf0d-4a1c-f36b-16b9ad5e9bee",
        "colab": {
          "base_uri": "https://localhost:8080/",
          "height": 265
        }
      },
      "source": [
        "from scipy.stats import norm\n",
        "from matplotlib import pyplot\n",
        "# define distribution parameters\n",
        "mu = mean(df[\"symbol_count\"])\n",
        "sigma = stdev(df[\"symbol_count\"])\n",
        "# create distribution\n",
        "dist = norm(mu, sigma)\n",
        "# plot pdf\n",
        "values = [value for value in range(min(df[\"symbol_count\"]), max(df[\"symbol_count\"]))]\n",
        "probabilities = [dist.pdf(value) for value in values]\n",
        "pyplot.plot(values, probabilities)\n",
        "pyplot.show()"
      ],
      "execution_count": 0,
      "outputs": [
        {
          "output_type": "display_data",
          "data": {
            "image/png": "[encoded data removed]",
            "text/plain": [
              "<Figure size 432x288 with 1 Axes>"
            ]
          },
          "metadata": {
            "tags": []
          }
        }
      ]
    },
    {
      "cell_type": "code",
      "metadata": {
        "id": "iF5KnD9CZU1z",
        "colab_type": "code",
        "colab": {}
      },
      "source": [
        "upper_case_count = []\n",
        "for i in range(len(df)):\n",
        "    count=0\n",
        "    for j in df.loc[i]['Message']:\n",
        "        if(j.isupper()):\n",
        "            count += 1\n",
        "    upper_case_count.append(count)\n",
        "df = df.assign(upper_case_count = upper_case_count)"
      ],
      "execution_count": 0,
      "outputs": []
    },
    {
      "cell_type": "code",
      "metadata": {
        "id": "NorsOh3pZO2r",
        "colab_type": "code",
        "outputId": "b5319075-9419-42dc-cf34-89d0b5a248f4",
        "colab": {
          "base_uri": "https://localhost:8080/",
          "height": 266
        }
      },
      "source": [
        "from scipy.stats import norm\n",
        "from matplotlib import pyplot\n",
        "# define distribution parameters\n",
        "mu = mean(df[\"upper_case_count\"])\n",
        "sigma = stdev(df[\"upper_case_count\"])\n",
        "# create distribution\n",
        "dist = norm(mu, sigma)\n",
        "# plot pdf\n",
        "values = [value for value in range(min(df[\"upper_case_count\"]), max(df[\"upper_case_count\"]))]\n",
        "probabilities = [dist.pdf(value) for value in values]\n",
        "pyplot.plot(values, probabilities)\n",
        "pyplot.show()"
      ],
      "execution_count": 0,
      "outputs": [
        {
          "output_type": "display_data",
          "data": {
            "image/png": "[encoded data removed]",
            "text/plain": [
              "<Figure size 432x288 with 1 Axes>"
            ]
          },
          "metadata": {
            "tags": []
          }
        }
      ]
    },
    {
      "cell_type": "code",
      "metadata": {
        "id": "eeIzgUiNZSWE",
        "colab_type": "code",
        "colab": {}
      },
      "source": [
        ""
      ],
      "execution_count": 0,
      "outputs": []
    }
  ]
}