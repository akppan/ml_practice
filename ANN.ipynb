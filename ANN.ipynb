{
  "nbformat": 4,
  "nbformat_minor": 0,
  "metadata": {
    "colab": {
      "name": "ANN.ipynb",
      "provenance": [],
      "include_colab_link": true
    },
    "kernelspec": {
      "name": "python3",
      "display_name": "Python 3"
    }
  },
  "cells": [
    {
      "cell_type": "markdown",
      "metadata": {
        "id": "view-in-github",
        "colab_type": "text"
      },
      "source": [
        "<a href=\"https://colab.research.google.com/github/akppan/ml_practice/blob/master/ANN.ipynb\" target=\"_parent\"><img src=\"https://colab.research.google.com/assets/colab-badge.svg\" alt=\"Open In Colab\"/></a>"
      ]
    },
    {
      "cell_type": "code",
      "metadata": {
        "id": "Skyb4AKO9eWI",
        "colab_type": "code",
        "colab": {}
      },
      "source": [
        "# Importing the libraries\n",
        "import numpy as np\n",
        "import matplotlib.pyplot as plt\n",
        "import pandas as pd"
      ],
      "execution_count": 0,
      "outputs": []
    },
    {
      "cell_type": "code",
      "metadata": {
        "id": "KZOLmpf9joKA",
        "colab_type": "code",
        "colab": {}
      },
      "source": [
        "# Importing the dataset\n",
        "dataset = pd.read_csv('/content/Churn_Modelling.csv')"
      ],
      "execution_count": 0,
      "outputs": []
    },
    {
      "cell_type": "code",
      "metadata": {
        "id": "wdSl1vv1joqv",
        "colab_type": "code",
        "outputId": "e297cea7-0938-451f-ae01-7c2a3e30ddf0",
        "colab": {
          "base_uri": "https://localhost:8080/",
          "height": 216
        }
      },
      "source": [
        "dataset.head()"
      ],
      "execution_count": 0,
      "outputs": [
        {
          "output_type": "execute_result",
          "data": {
            "text/html": [
              "<div>\n",
              "<style scoped>\n",
              "    .dataframe tbody tr th:only-of-type {\n",
              "        vertical-align: middle;\n",
              "    }\n",
              "\n",
              "    .dataframe tbody tr th {\n",
              "        vertical-align: top;\n",
              "    }\n",
              "\n",
              "    .dataframe thead th {\n",
              "        text-align: right;\n",
              "    }\n",
              "</style>\n",
              "<table border=\"1\" class=\"dataframe\">\n",
              "  <thead>\n",
              "    <tr style=\"text-align: right;\">\n",
              "      <th></th>\n",
              "      <th>RowNumber</th>\n",
              "      <th>CustomerId</th>\n",
              "      <th>Surname</th>\n",
              "      <th>CreditScore</th>\n",
              "      <th>Geography</th>\n",
              "      <th>Gender</th>\n",
              "      <th>Age</th>\n",
              "      <th>Tenure</th>\n",
              "      <th>Balance</th>\n",
              "      <th>NumOfProducts</th>\n",
              "      <th>HasCrCard</th>\n",
              "      <th>IsActiveMember</th>\n",
              "      <th>EstimatedSalary</th>\n",
              "      <th>Exited</th>\n",
              "    </tr>\n",
              "  </thead>\n",
              "  <tbody>\n",
              "    <tr>\n",
              "      <th>0</th>\n",
              "      <td>1</td>\n",
              "      <td>15634602</td>\n",
              "      <td>Hargrave</td>\n",
              "      <td>619</td>\n",
              "      <td>France</td>\n",
              "      <td>Female</td>\n",
              "      <td>42</td>\n",
              "      <td>2</td>\n",
              "      <td>0.00</td>\n",
              "      <td>1</td>\n",
              "      <td>1</td>\n",
              "      <td>1</td>\n",
              "      <td>101348.88</td>\n",
              "      <td>1</td>\n",
              "    </tr>\n",
              "    <tr>\n",
              "      <th>1</th>\n",
              "      <td>2</td>\n",
              "      <td>15647311</td>\n",
              "      <td>Hill</td>\n",
              "      <td>608</td>\n",
              "      <td>Spain</td>\n",
              "      <td>Female</td>\n",
              "      <td>41</td>\n",
              "      <td>1</td>\n",
              "      <td>83807.86</td>\n",
              "      <td>1</td>\n",
              "      <td>0</td>\n",
              "      <td>1</td>\n",
              "      <td>112542.58</td>\n",
              "      <td>0</td>\n",
              "    </tr>\n",
              "    <tr>\n",
              "      <th>2</th>\n",
              "      <td>3</td>\n",
              "      <td>15619304</td>\n",
              "      <td>Onio</td>\n",
              "      <td>502</td>\n",
              "      <td>France</td>\n",
              "      <td>Female</td>\n",
              "      <td>42</td>\n",
              "      <td>8</td>\n",
              "      <td>159660.80</td>\n",
              "      <td>3</td>\n",
              "      <td>1</td>\n",
              "      <td>0</td>\n",
              "      <td>113931.57</td>\n",
              "      <td>1</td>\n",
              "    </tr>\n",
              "    <tr>\n",
              "      <th>3</th>\n",
              "      <td>4</td>\n",
              "      <td>15701354</td>\n",
              "      <td>Boni</td>\n",
              "      <td>699</td>\n",
              "      <td>France</td>\n",
              "      <td>Female</td>\n",
              "      <td>39</td>\n",
              "      <td>1</td>\n",
              "      <td>0.00</td>\n",
              "      <td>2</td>\n",
              "      <td>0</td>\n",
              "      <td>0</td>\n",
              "      <td>93826.63</td>\n",
              "      <td>0</td>\n",
              "    </tr>\n",
              "    <tr>\n",
              "      <th>4</th>\n",
              "      <td>5</td>\n",
              "      <td>15737888</td>\n",
              "      <td>Mitchell</td>\n",
              "      <td>850</td>\n",
              "      <td>Spain</td>\n",
              "      <td>Female</td>\n",
              "      <td>43</td>\n",
              "      <td>2</td>\n",
              "      <td>125510.82</td>\n",
              "      <td>1</td>\n",
              "      <td>1</td>\n",
              "      <td>1</td>\n",
              "      <td>79084.10</td>\n",
              "      <td>0</td>\n",
              "    </tr>\n",
              "  </tbody>\n",
              "</table>\n",
              "</div>"
            ],
            "text/plain": [
              "   RowNumber  CustomerId   Surname  ...  IsActiveMember EstimatedSalary Exited\n",
              "0          1    15634602  Hargrave  ...               1       101348.88      1\n",
              "1          2    15647311      Hill  ...               1       112542.58      0\n",
              "2          3    15619304      Onio  ...               0       113931.57      1\n",
              "3          4    15701354      Boni  ...               0        93826.63      0\n",
              "4          5    15737888  Mitchell  ...               1        79084.10      0\n",
              "\n",
              "[5 rows x 14 columns]"
            ]
          },
          "metadata": {
            "tags": []
          },
          "execution_count": 4
        }
      ]
    },
    {
      "cell_type": "code",
      "metadata": {
        "id": "W1ofhLtfjpJC",
        "colab_type": "code",
        "colab": {}
      },
      "source": [
        "X = dataset.iloc[:, 3:13].values\n",
        "y = dataset.iloc[:, 13].values"
      ],
      "execution_count": 0,
      "outputs": []
    },
    {
      "cell_type": "code",
      "metadata": {
        "id": "s-siPAidjpmX",
        "colab_type": "code",
        "outputId": "5311cd5b-dd47-4d84-d997-5d5b931d5032",
        "colab": {
          "base_uri": "https://localhost:8080/",
          "height": 201
        }
      },
      "source": [
        "#Encoding categorical data\n",
        "from sklearn.preprocessing import LabelEncoder, OneHotEncoder\n",
        "labelencoder_X_1 = LabelEncoder()\n",
        "X[:,1] = labelencoder_X_1.fit_transform(X[:,1])\n",
        "print(X[:,1])\n",
        "labelencoder_X_2 = LabelEncoder()\n",
        "X[:,2] = labelencoder_X_2.fit_transform(X[:,2])\n",
        "print(X[:,2])\n",
        "#creating dummy variable\n",
        "# onehotencoder = OneHotEncoder(categorical_features = [1])\n",
        "onehotencoder = OneHotEncoder()\n",
        "print(onehotencoder)\n",
        "X = onehotencoder.fit_transform(X).toarray()\n",
        "print(X)\n",
        "#removing first column to fall into dummy variable trap\n",
        "X = X[:,1:]"
      ],
      "execution_count": 0,
      "outputs": [
        {
          "output_type": "stream",
          "text": [
            "[0. 0. 0. ... 0. 0. 0.]\n",
            "[0. 0. 0. ... 0. 0. 0.]\n",
            "OneHotEncoder(categories='auto', drop=None, dtype=<class 'numpy.float64'>,\n",
            "              handle_unknown='error', sparse=True)\n",
            "[[1. 0. 1. ... 0. 1. 0.]\n",
            " [1. 0. 1. ... 0. 1. 0.]\n",
            " [1. 0. 1. ... 0. 1. 0.]\n",
            " ...\n",
            " [1. 0. 1. ... 0. 1. 0.]\n",
            " [1. 0. 1. ... 0. 1. 0.]\n",
            " [1. 0. 1. ... 0. 1. 0.]]\n"
          ],
          "name": "stdout"
        }
      ]
    },
    {
      "cell_type": "code",
      "metadata": {
        "id": "cdSmOV84jqCx",
        "colab_type": "code",
        "colab": {}
      },
      "source": [
        "# Splitting the dataset into the Training set and Test set\n",
        "from sklearn.model_selection import train_test_split\n",
        "X_train, X_test, y_train, y_test = train_test_split(X, y, test_size = 0.25, random_state = 0)"
      ],
      "execution_count": 0,
      "outputs": []
    },
    {
      "cell_type": "code",
      "metadata": {
        "id": "612n1waujqix",
        "colab_type": "code",
        "colab": {}
      },
      "source": [
        "# Feature Scaling\n",
        "from sklearn.preprocessing import StandardScaler\n",
        "sc = StandardScaler()\n",
        "X_train = sc.fit_transform(X_train)\n",
        "X_test = sc.transform(X_test)"
      ],
      "execution_count": 0,
      "outputs": []
    },
    {
      "cell_type": "code",
      "metadata": {
        "id": "bdQsh8pbjrFb",
        "colab_type": "code",
        "colab": {}
      },
      "source": [
        "#importing keras library and packages\n",
        "import keras\n",
        "from keras.models import Sequential\n",
        "from keras.layers import Dense"
      ],
      "execution_count": 0,
      "outputs": []
    },
    {
      "cell_type": "code",
      "metadata": {
        "id": "YwTVBEzsoUFD",
        "colab_type": "code",
        "colab": {}
      },
      "source": [
        "#initialising ANN\n",
        "classifier = Sequential()"
      ],
      "execution_count": 0,
      "outputs": []
    },
    {
      "cell_type": "code",
      "metadata": {
        "id": "neBpNwfsoUap",
        "colab_type": "code",
        "outputId": "7762a470-f1e2-4a2f-c4a8-18da4f5a8cf3",
        "colab": {
          "base_uri": "https://localhost:8080/",
          "height": 70
        }
      },
      "source": [
        "#Adding the input layer and the first hidden layer\n",
        "classifier.add(Dense(output_dim=6,init='uniform',activation='relu',input_dim=11))\n",
        "# we chose no. of nodes in hidden layer i.e. output_dim = average of(no. of input(columns in X_train) + no. of output(1 in case of classification)) i.e. sum/2\n",
        "# we specified initialization method\n",
        "# we specified activation function as rectifier function(relu) for hidden layer and sigmoid for output layer\n",
        "# input_dim to be used only in first hidden layers to tell the no. of inputs"
      ],
      "execution_count": 0,
      "outputs": [
        {
          "output_type": "stream",
          "text": [
            "/usr/local/lib/python3.6/dist-packages/ipykernel_launcher.py:1: UserWarning: Update your `Dense` call to the Keras 2 API: `Dense(activation=\"relu\", input_dim=11, units=6, kernel_initializer=\"uniform\")`\n",
            "  \"\"\"Entry point for launching an IPython kernel.\n"
          ],
          "name": "stderr"
        }
      ]
    },
    {
      "cell_type": "code",
      "metadata": {
        "id": "hAX2oSIjoU9z",
        "colab_type": "code",
        "outputId": "8ddb1374-ddff-4141-9f18-d6ba792e13b0",
        "colab": {
          "base_uri": "https://localhost:8080/",
          "height": 70
        }
      },
      "source": [
        "#Adding second hidden layer\n",
        "classifier.add(Dense(output_dim=6,init='uniform',activation='relu'))"
      ],
      "execution_count": 0,
      "outputs": [
        {
          "output_type": "stream",
          "text": [
            "/usr/local/lib/python3.6/dist-packages/ipykernel_launcher.py:1: UserWarning: Update your `Dense` call to the Keras 2 API: `Dense(activation=\"relu\", units=6, kernel_initializer=\"uniform\")`\n",
            "  \"\"\"Entry point for launching an IPython kernel.\n"
          ],
          "name": "stderr"
        }
      ]
    },
    {
      "cell_type": "code",
      "metadata": {
        "id": "bfmn4QFroVcY",
        "colab_type": "code",
        "outputId": "ad2a7074-bb5c-40e1-dc7e-d5aa95647b1b",
        "colab": {
          "base_uri": "https://localhost:8080/",
          "height": 70
        }
      },
      "source": [
        "#Adding output layer\n",
        "classifier.add(Dense(output_dim=1,init='uniform',activation='sigmoid'))\n",
        "#If we have more than two variables(let say x) in output then output_dim=x and activation function will change (let say softmax)."
      ],
      "execution_count": 0,
      "outputs": [
        {
          "output_type": "stream",
          "text": [
            "/usr/local/lib/python3.6/dist-packages/ipykernel_launcher.py:1: UserWarning: Update your `Dense` call to the Keras 2 API: `Dense(activation=\"sigmoid\", units=1, kernel_initializer=\"uniform\")`\n",
            "  \"\"\"Entry point for launching an IPython kernel.\n"
          ],
          "name": "stderr"
        }
      ]
    },
    {
      "cell_type": "code",
      "metadata": {
        "id": "wHKls_aEoV6h",
        "colab_type": "code",
        "colab": {}
      },
      "source": [
        "#Compiling the ANN\n",
        "classifier.compile(optimizer='adam',loss='binary_crossentropy', metrics=['accuracy'])\n",
        "# 'adam' is a stochastic gradient descent algorithm\n",
        "# binary_crossentropy is loss function in adam algorithm for two outputs"
      ],
      "execution_count": 0,
      "outputs": []
    },
    {
      "cell_type": "code",
      "metadata": {
        "id": "1MJFZoD5oWeT",
        "colab_type": "code",
        "outputId": "d1bb31ea-2b24-44e1-c6d3-6f8487dbae62",
        "colab": {
          "base_uri": "https://localhost:8080/",
          "height": 1000
        }
      },
      "source": [
        "# Fitting the ANN to training set\n",
        "classifier.fit(X_train, y_train, batch_size=10, epochs=100)"
      ],
      "execution_count": 0,
      "outputs": [
        {
          "output_type": "stream",
          "text": [
            "WARNING:tensorflow:From /usr/local/lib/python3.6/dist-packages/keras/backend/tensorflow_backend.py:1033: The name tf.assign_add is deprecated. Please use tf.compat.v1.assign_add instead.\n",
            "\n",
            "WARNING:tensorflow:From /usr/local/lib/python3.6/dist-packages/keras/backend/tensorflow_backend.py:1020: The name tf.assign is deprecated. Please use tf.compat.v1.assign instead.\n",
            "\n",
            "WARNING:tensorflow:From /usr/local/lib/python3.6/dist-packages/keras/backend/tensorflow_backend.py:3005: The name tf.Session is deprecated. Please use tf.compat.v1.Session instead.\n",
            "\n",
            "Epoch 1/100\n",
            "WARNING:tensorflow:From /usr/local/lib/python3.6/dist-packages/keras/backend/tensorflow_backend.py:190: The name tf.get_default_session is deprecated. Please use tf.compat.v1.get_default_session instead.\n",
            "\n",
            "WARNING:tensorflow:From /usr/local/lib/python3.6/dist-packages/keras/backend/tensorflow_backend.py:197: The name tf.ConfigProto is deprecated. Please use tf.compat.v1.ConfigProto instead.\n",
            "\n",
            "WARNING:tensorflow:From /usr/local/lib/python3.6/dist-packages/keras/backend/tensorflow_backend.py:207: The name tf.global_variables is deprecated. Please use tf.compat.v1.global_variables instead.\n",
            "\n",
            "WARNING:tensorflow:From /usr/local/lib/python3.6/dist-packages/keras/backend/tensorflow_backend.py:216: The name tf.is_variable_initialized is deprecated. Please use tf.compat.v1.is_variable_initialized instead.\n",
            "\n",
            "WARNING:tensorflow:From /usr/local/lib/python3.6/dist-packages/keras/backend/tensorflow_backend.py:223: The name tf.variables_initializer is deprecated. Please use tf.compat.v1.variables_initializer instead.\n",
            "\n",
            "7500/7500 [==============================] - 2s 246us/step - loss: 0.5012 - acc: 0.7967\n",
            "Epoch 2/100\n",
            "7500/7500 [==============================] - 1s 117us/step - loss: 0.4108 - acc: 0.8104\n",
            "Epoch 3/100\n",
            "7500/7500 [==============================] - 1s 126us/step - loss: 0.3817 - acc: 0.8367\n",
            "Epoch 4/100\n",
            "7500/7500 [==============================] - 1s 128us/step - loss: 0.3612 - acc: 0.8515\n",
            "Epoch 5/100\n",
            "7500/7500 [==============================] - 1s 128us/step - loss: 0.3518 - acc: 0.8564\n",
            "Epoch 6/100\n",
            "7500/7500 [==============================] - 1s 121us/step - loss: 0.3477 - acc: 0.8596\n",
            "Epoch 7/100\n",
            "7500/7500 [==============================] - 1s 130us/step - loss: 0.3458 - acc: 0.8588\n",
            "Epoch 8/100\n",
            "7500/7500 [==============================] - 1s 121us/step - loss: 0.3438 - acc: 0.8589\n",
            "Epoch 9/100\n",
            "7500/7500 [==============================] - 1s 125us/step - loss: 0.3430 - acc: 0.8601\n",
            "Epoch 10/100\n",
            "7500/7500 [==============================] - 1s 113us/step - loss: 0.3421 - acc: 0.8617\n",
            "Epoch 11/100\n",
            "7500/7500 [==============================] - 1s 115us/step - loss: 0.3414 - acc: 0.8617\n",
            "Epoch 12/100\n",
            "7500/7500 [==============================] - 1s 118us/step - loss: 0.3408 - acc: 0.8607\n",
            "Epoch 13/100\n",
            "7500/7500 [==============================] - 1s 117us/step - loss: 0.3398 - acc: 0.8629\n",
            "Epoch 14/100\n",
            "7500/7500 [==============================] - 1s 114us/step - loss: 0.3398 - acc: 0.8628\n",
            "Epoch 15/100\n",
            "7500/7500 [==============================] - 1s 118us/step - loss: 0.3388 - acc: 0.8624\n",
            "Epoch 16/100\n",
            "7500/7500 [==============================] - 1s 117us/step - loss: 0.3386 - acc: 0.8623\n",
            "Epoch 17/100\n",
            "7500/7500 [==============================] - 1s 117us/step - loss: 0.3385 - acc: 0.8629\n",
            "Epoch 18/100\n",
            "7500/7500 [==============================] - 1s 115us/step - loss: 0.3382 - acc: 0.8620\n",
            "Epoch 19/100\n",
            "7500/7500 [==============================] - 1s 117us/step - loss: 0.3379 - acc: 0.8617\n",
            "Epoch 20/100\n",
            "7500/7500 [==============================] - 1s 117us/step - loss: 0.3378 - acc: 0.8629\n",
            "Epoch 21/100\n",
            "7500/7500 [==============================] - 1s 120us/step - loss: 0.3372 - acc: 0.8619\n",
            "Epoch 22/100\n",
            "7500/7500 [==============================] - 1s 115us/step - loss: 0.3379 - acc: 0.8628\n",
            "Epoch 23/100\n",
            "7500/7500 [==============================] - 1s 115us/step - loss: 0.3365 - acc: 0.8640\n",
            "Epoch 24/100\n",
            "7500/7500 [==============================] - 1s 117us/step - loss: 0.3368 - acc: 0.8641\n",
            "Epoch 25/100\n",
            "7500/7500 [==============================] - 1s 115us/step - loss: 0.3366 - acc: 0.8625\n",
            "Epoch 26/100\n",
            "7500/7500 [==============================] - 1s 113us/step - loss: 0.3372 - acc: 0.8637\n",
            "Epoch 27/100\n",
            "7500/7500 [==============================] - 1s 119us/step - loss: 0.3363 - acc: 0.8633\n",
            "Epoch 28/100\n",
            "7500/7500 [==============================] - 1s 114us/step - loss: 0.3362 - acc: 0.8624\n",
            "Epoch 29/100\n",
            "7500/7500 [==============================] - 1s 112us/step - loss: 0.3365 - acc: 0.8639\n",
            "Epoch 30/100\n",
            "7500/7500 [==============================] - 1s 112us/step - loss: 0.3359 - acc: 0.8632\n",
            "Epoch 31/100\n",
            "7500/7500 [==============================] - 1s 119us/step - loss: 0.3362 - acc: 0.8627\n",
            "Epoch 32/100\n",
            "7500/7500 [==============================] - 1s 112us/step - loss: 0.3357 - acc: 0.8636\n",
            "Epoch 33/100\n",
            "7500/7500 [==============================] - 1s 110us/step - loss: 0.3357 - acc: 0.8645\n",
            "Epoch 34/100\n",
            "7500/7500 [==============================] - 1s 111us/step - loss: 0.3359 - acc: 0.8624\n",
            "Epoch 35/100\n",
            "7500/7500 [==============================] - 1s 115us/step - loss: 0.3359 - acc: 0.8637\n",
            "Epoch 36/100\n",
            "7500/7500 [==============================] - 1s 116us/step - loss: 0.3357 - acc: 0.8643\n",
            "Epoch 37/100\n",
            "7500/7500 [==============================] - 1s 116us/step - loss: 0.3355 - acc: 0.8632\n",
            "Epoch 38/100\n",
            "7500/7500 [==============================] - 1s 114us/step - loss: 0.3364 - acc: 0.8629\n",
            "Epoch 39/100\n",
            "7500/7500 [==============================] - 1s 114us/step - loss: 0.3353 - acc: 0.8664\n",
            "Epoch 40/100\n",
            "7500/7500 [==============================] - 1s 111us/step - loss: 0.3353 - acc: 0.8655\n",
            "Epoch 41/100\n",
            "7500/7500 [==============================] - 1s 122us/step - loss: 0.3350 - acc: 0.8629\n",
            "Epoch 42/100\n",
            "7500/7500 [==============================] - 1s 118us/step - loss: 0.3350 - acc: 0.8659\n",
            "Epoch 43/100\n",
            "7500/7500 [==============================] - 1s 117us/step - loss: 0.3348 - acc: 0.8632\n",
            "Epoch 44/100\n",
            "7500/7500 [==============================] - 1s 113us/step - loss: 0.3349 - acc: 0.8645\n",
            "Epoch 45/100\n",
            "7500/7500 [==============================] - 1s 116us/step - loss: 0.3347 - acc: 0.8649\n",
            "Epoch 46/100\n",
            "7500/7500 [==============================] - 1s 115us/step - loss: 0.3351 - acc: 0.8623\n",
            "Epoch 47/100\n",
            "7500/7500 [==============================] - 1s 111us/step - loss: 0.3351 - acc: 0.8641\n",
            "Epoch 48/100\n",
            "7500/7500 [==============================] - 1s 119us/step - loss: 0.3345 - acc: 0.8649\n",
            "Epoch 49/100\n",
            "7500/7500 [==============================] - 1s 112us/step - loss: 0.3355 - acc: 0.8633\n",
            "Epoch 50/100\n",
            "7500/7500 [==============================] - 1s 121us/step - loss: 0.3349 - acc: 0.8643\n",
            "Epoch 51/100\n",
            "7500/7500 [==============================] - 1s 120us/step - loss: 0.3344 - acc: 0.8639\n",
            "Epoch 52/100\n",
            "7500/7500 [==============================] - 1s 113us/step - loss: 0.3347 - acc: 0.8656\n",
            "Epoch 53/100\n",
            "7500/7500 [==============================] - 1s 122us/step - loss: 0.3344 - acc: 0.8644\n",
            "Epoch 54/100\n",
            "7500/7500 [==============================] - 1s 123us/step - loss: 0.3352 - acc: 0.8637\n",
            "Epoch 55/100\n",
            "7500/7500 [==============================] - 1s 119us/step - loss: 0.3344 - acc: 0.8651\n",
            "Epoch 56/100\n",
            "7500/7500 [==============================] - 1s 119us/step - loss: 0.3341 - acc: 0.8655\n",
            "Epoch 57/100\n",
            "7500/7500 [==============================] - 1s 120us/step - loss: 0.3342 - acc: 0.8635\n",
            "Epoch 58/100\n",
            "7500/7500 [==============================] - 1s 117us/step - loss: 0.3344 - acc: 0.8648\n",
            "Epoch 59/100\n",
            "7500/7500 [==============================] - 1s 116us/step - loss: 0.3343 - acc: 0.8644\n",
            "Epoch 60/100\n",
            "7500/7500 [==============================] - 1s 125us/step - loss: 0.3348 - acc: 0.8649\n",
            "Epoch 61/100\n",
            "7500/7500 [==============================] - 1s 113us/step - loss: 0.3344 - acc: 0.8635\n",
            "Epoch 62/100\n",
            "7500/7500 [==============================] - 1s 113us/step - loss: 0.3339 - acc: 0.8637\n",
            "Epoch 63/100\n",
            "7500/7500 [==============================] - 1s 110us/step - loss: 0.3340 - acc: 0.8627\n",
            "Epoch 64/100\n",
            "7500/7500 [==============================] - 1s 117us/step - loss: 0.3345 - acc: 0.8655\n",
            "Epoch 65/100\n",
            "7500/7500 [==============================] - 1s 118us/step - loss: 0.3347 - acc: 0.8635\n",
            "Epoch 66/100\n",
            "7500/7500 [==============================] - 1s 114us/step - loss: 0.3343 - acc: 0.8649\n",
            "Epoch 67/100\n",
            "7500/7500 [==============================] - 1s 120us/step - loss: 0.3339 - acc: 0.8651\n",
            "Epoch 68/100\n",
            "7500/7500 [==============================] - 1s 110us/step - loss: 0.3348 - acc: 0.8659\n",
            "Epoch 69/100\n",
            "7500/7500 [==============================] - 1s 119us/step - loss: 0.3348 - acc: 0.8651\n",
            "Epoch 70/100\n",
            "7500/7500 [==============================] - 1s 114us/step - loss: 0.3340 - acc: 0.8640\n",
            "Epoch 71/100\n",
            "7500/7500 [==============================] - 1s 115us/step - loss: 0.3348 - acc: 0.8636\n",
            "Epoch 72/100\n",
            "7500/7500 [==============================] - 1s 110us/step - loss: 0.3331 - acc: 0.8643\n",
            "Epoch 73/100\n",
            "7500/7500 [==============================] - 1s 115us/step - loss: 0.3343 - acc: 0.8640\n",
            "Epoch 74/100\n",
            "7500/7500 [==============================] - 1s 116us/step - loss: 0.3336 - acc: 0.8632\n",
            "Epoch 75/100\n",
            "7500/7500 [==============================] - 1s 114us/step - loss: 0.3342 - acc: 0.8632\n",
            "Epoch 76/100\n",
            "7500/7500 [==============================] - 1s 115us/step - loss: 0.3337 - acc: 0.8644\n",
            "Epoch 77/100\n",
            "7500/7500 [==============================] - 1s 111us/step - loss: 0.3331 - acc: 0.8653\n",
            "Epoch 78/100\n",
            "7500/7500 [==============================] - 1s 111us/step - loss: 0.3349 - acc: 0.8652\n",
            "Epoch 79/100\n",
            "7500/7500 [==============================] - 1s 111us/step - loss: 0.3339 - acc: 0.8637\n",
            "Epoch 80/100\n",
            "7500/7500 [==============================] - 1s 118us/step - loss: 0.3343 - acc: 0.8653\n",
            "Epoch 81/100\n",
            "7500/7500 [==============================] - 1s 117us/step - loss: 0.3336 - acc: 0.8640\n",
            "Epoch 82/100\n",
            "7500/7500 [==============================] - 1s 111us/step - loss: 0.3337 - acc: 0.8644\n",
            "Epoch 83/100\n",
            "7500/7500 [==============================] - 1s 114us/step - loss: 0.3338 - acc: 0.8629\n",
            "Epoch 84/100\n",
            "7500/7500 [==============================] - 1s 116us/step - loss: 0.3342 - acc: 0.8656\n",
            "Epoch 85/100\n",
            "7500/7500 [==============================] - 1s 113us/step - loss: 0.3336 - acc: 0.8647\n",
            "Epoch 86/100\n",
            "7500/7500 [==============================] - 1s 120us/step - loss: 0.3344 - acc: 0.8647\n",
            "Epoch 87/100\n",
            "7500/7500 [==============================] - 1s 114us/step - loss: 0.3332 - acc: 0.8649\n",
            "Epoch 88/100\n",
            "7500/7500 [==============================] - 1s 119us/step - loss: 0.3336 - acc: 0.8645\n",
            "Epoch 89/100\n",
            "7500/7500 [==============================] - 1s 121us/step - loss: 0.3332 - acc: 0.8639\n",
            "Epoch 90/100\n",
            "7500/7500 [==============================] - 1s 111us/step - loss: 0.3339 - acc: 0.8651\n",
            "Epoch 91/100\n",
            "7500/7500 [==============================] - 1s 112us/step - loss: 0.3337 - acc: 0.8623\n",
            "Epoch 92/100\n",
            "7500/7500 [==============================] - 1s 113us/step - loss: 0.3331 - acc: 0.8663\n",
            "Epoch 93/100\n",
            "7500/7500 [==============================] - 1s 115us/step - loss: 0.3338 - acc: 0.8645\n",
            "Epoch 94/100\n",
            "7500/7500 [==============================] - 1s 116us/step - loss: 0.3331 - acc: 0.8644\n",
            "Epoch 95/100\n",
            "7500/7500 [==============================] - 1s 110us/step - loss: 0.3337 - acc: 0.8636\n",
            "Epoch 96/100\n",
            "7500/7500 [==============================] - 1s 113us/step - loss: 0.3339 - acc: 0.8631\n",
            "Epoch 97/100\n",
            "7500/7500 [==============================] - 1s 120us/step - loss: 0.3337 - acc: 0.8635\n",
            "Epoch 98/100\n",
            "7500/7500 [==============================] - 1s 110us/step - loss: 0.3331 - acc: 0.8661\n",
            "Epoch 99/100\n",
            "7500/7500 [==============================] - 1s 113us/step - loss: 0.3336 - acc: 0.8657\n",
            "Epoch 100/100\n",
            "7500/7500 [==============================] - 1s 118us/step - loss: 0.3333 - acc: 0.8643\n"
          ],
          "name": "stdout"
        },
        {
          "output_type": "execute_result",
          "data": {
            "text/plain": [
              "<keras.callbacks.History at 0x7fec9d639f28>"
            ]
          },
          "metadata": {
            "tags": []
          },
          "execution_count": 30
        }
      ]
    },
    {
      "cell_type": "code",
      "metadata": {
        "id": "PcI729R0zGub",
        "colab_type": "code",
        "colab": {}
      },
      "source": [
        "y_pred = classifier.predict(X_test)"
      ],
      "execution_count": 0,
      "outputs": []
    },
    {
      "cell_type": "code",
      "metadata": {
        "id": "VEdYl__G0kP-",
        "colab_type": "code",
        "outputId": "3c2c0e7b-790d-49d1-b0e2-56d6ac2dc0d9",
        "colab": {
          "base_uri": "https://localhost:8080/",
          "height": 319
        }
      },
      "source": [
        "from sklearn.metrics import confusion_matrix\n",
        "cm = confusion_matrix(y_test, y_pred)"
      ],
      "execution_count": 0,
      "outputs": [
        {
          "output_type": "error",
          "ename": "ValueError",
          "evalue": "ignored",
          "traceback": [
            "\u001b[0;31m---------------------------------------------------------------------------\u001b[0m",
            "\u001b[0;31mValueError\u001b[0m                                Traceback (most recent call last)",
            "\u001b[0;32m<ipython-input-33-9aea565ff4c1>\u001b[0m in \u001b[0;36m<module>\u001b[0;34m()\u001b[0m\n\u001b[1;32m      1\u001b[0m \u001b[0;32mfrom\u001b[0m \u001b[0msklearn\u001b[0m\u001b[0;34m.\u001b[0m\u001b[0mmetrics\u001b[0m \u001b[0;32mimport\u001b[0m \u001b[0mconfusion_matrix\u001b[0m\u001b[0;34m\u001b[0m\u001b[0;34m\u001b[0m\u001b[0m\n\u001b[0;32m----> 2\u001b[0;31m \u001b[0mcm\u001b[0m \u001b[0;34m=\u001b[0m \u001b[0mconfusion_matrix\u001b[0m\u001b[0;34m(\u001b[0m\u001b[0my_test\u001b[0m\u001b[0;34m,\u001b[0m \u001b[0my_pred\u001b[0m\u001b[0;34m)\u001b[0m\u001b[0;34m\u001b[0m\u001b[0;34m\u001b[0m\u001b[0m\n\u001b[0m",
            "\u001b[0;32m/usr/local/lib/python3.6/dist-packages/sklearn/metrics/classification.py\u001b[0m in \u001b[0;36mconfusion_matrix\u001b[0;34m(y_true, y_pred, labels, sample_weight)\u001b[0m\n\u001b[1;32m    251\u001b[0m \u001b[0;34m\u001b[0m\u001b[0m\n\u001b[1;32m    252\u001b[0m     \"\"\"\n\u001b[0;32m--> 253\u001b[0;31m     \u001b[0my_type\u001b[0m\u001b[0;34m,\u001b[0m \u001b[0my_true\u001b[0m\u001b[0;34m,\u001b[0m \u001b[0my_pred\u001b[0m \u001b[0;34m=\u001b[0m \u001b[0m_check_targets\u001b[0m\u001b[0;34m(\u001b[0m\u001b[0my_true\u001b[0m\u001b[0;34m,\u001b[0m \u001b[0my_pred\u001b[0m\u001b[0;34m)\u001b[0m\u001b[0;34m\u001b[0m\u001b[0;34m\u001b[0m\u001b[0m\n\u001b[0m\u001b[1;32m    254\u001b[0m     \u001b[0;32mif\u001b[0m \u001b[0my_type\u001b[0m \u001b[0;32mnot\u001b[0m \u001b[0;32min\u001b[0m \u001b[0;34m(\u001b[0m\u001b[0;34m\"binary\"\u001b[0m\u001b[0;34m,\u001b[0m \u001b[0;34m\"multiclass\"\u001b[0m\u001b[0;34m)\u001b[0m\u001b[0;34m:\u001b[0m\u001b[0;34m\u001b[0m\u001b[0;34m\u001b[0m\u001b[0m\n\u001b[1;32m    255\u001b[0m         \u001b[0;32mraise\u001b[0m \u001b[0mValueError\u001b[0m\u001b[0;34m(\u001b[0m\u001b[0;34m\"%s is not supported\"\u001b[0m \u001b[0;34m%\u001b[0m \u001b[0my_type\u001b[0m\u001b[0;34m)\u001b[0m\u001b[0;34m\u001b[0m\u001b[0;34m\u001b[0m\u001b[0m\n",
            "\u001b[0;32m/usr/local/lib/python3.6/dist-packages/sklearn/metrics/classification.py\u001b[0m in \u001b[0;36m_check_targets\u001b[0;34m(y_true, y_pred)\u001b[0m\n\u001b[1;32m     79\u001b[0m     \u001b[0;32mif\u001b[0m \u001b[0mlen\u001b[0m\u001b[0;34m(\u001b[0m\u001b[0my_type\u001b[0m\u001b[0;34m)\u001b[0m \u001b[0;34m>\u001b[0m \u001b[0;36m1\u001b[0m\u001b[0;34m:\u001b[0m\u001b[0;34m\u001b[0m\u001b[0;34m\u001b[0m\u001b[0m\n\u001b[1;32m     80\u001b[0m         raise ValueError(\"Classification metrics can't handle a mix of {0} \"\n\u001b[0;32m---> 81\u001b[0;31m                          \"and {1} targets\".format(type_true, type_pred))\n\u001b[0m\u001b[1;32m     82\u001b[0m \u001b[0;34m\u001b[0m\u001b[0m\n\u001b[1;32m     83\u001b[0m     \u001b[0;31m# We can't have more than one value on y_type => The set is no more needed\u001b[0m\u001b[0;34m\u001b[0m\u001b[0;34m\u001b[0m\u001b[0;34m\u001b[0m\u001b[0m\n",
            "\u001b[0;31mValueError\u001b[0m: Classification metrics can't handle a mix of binary and continuous targets"
          ]
        }
      ]
    },
    {
      "cell_type": "code",
      "metadata": {
        "id": "9RInA9A70s-H",
        "colab_type": "code",
        "colab": {}
      },
      "source": [
        "cm"
      ],
      "execution_count": 0,
      "outputs": []
    }
  ]
}